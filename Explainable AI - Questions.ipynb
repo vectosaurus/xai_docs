{
 "cells": [
  {
   "cell_type": "markdown",
   "metadata": {},
   "source": [
    "### Explainable AI"
   ]
  },
  {
   "cell_type": "markdown",
   "metadata": {},
   "source": [
    "The purpose of this document is to give a preview of the explanations for the questions provided in the accompanying Google form. "
   ]
  },
  {
   "cell_type": "markdown",
   "metadata": {},
   "source": [
    "#### 1. Are there any longitudinal or time dependent trends in the data?"
   ]
  },
  {
   "cell_type": "markdown",
   "metadata": {},
   "source": [
    "There are many cases where we may get data that show seasonal patterns. For example - sales records of cough syrups, average rainfall recorded in a particular area, height of ocean tides, etc. According to us, a businessman would like to see the comparison of the target variable for this season period compared against the target variable during non seasonal period"
   ]
  },
  {
   "cell_type": "code",
   "execution_count": null,
   "metadata": {
    "collapsed": true
   },
   "outputs": [],
   "source": []
  },
  {
   "cell_type": "markdown",
   "metadata": {},
   "source": [
    "#### 2. Show me some interesting behavior that I wouldn’t expect."
   ]
  },
  {
   "cell_type": "markdown",
   "metadata": {},
   "source": [
    "Although the question comes across as naive, nevertheless, a lot of customers ask this question. This is what we have come up with - through clustering, we can group the data into segments and profile them. In the profiling step we will be labelling the segments, for example - high volume low margin traders, loyal and low basket value customers, etc. We aim to attract customer attention by showing them the latent structures in the data and their profiles/attributes. What other information should we show them? "
   ]
  },
  {
   "cell_type": "code",
   "execution_count": null,
   "metadata": {
    "collapsed": true
   },
   "outputs": [],
   "source": []
  },
  {
   "cell_type": "markdown",
   "metadata": {},
   "source": [
    "#### 3. What are the most important features?"
   ]
  },
  {
   "cell_type": "markdown",
   "metadata": {},
   "source": [
    "A staple question for all the businessmen. To answer this question, we will display the list of variables in decreasing order of importance. Along with that we will show how much the model suffers in terms of accuracy (or any other relevant metric) on excluding that variable. Is there any other way to answer this question that makes it more intuitive and easy to understand? Also is the answer sufficient in terms of content?"
   ]
  },
  {
   "cell_type": "markdown",
   "metadata": {},
   "source": [
    "<tr>\n",
    "    <td> <img src=\"var_imp_plot.png\" alt=\"Drawing\" style=\"width: 1000px;\"/> </td>\n",
    "    <td> <img src=\"acc_drop.png\" alt=\"Drawing\" style=\"width: 1000px;\"/> </td>\n",
    "</tr>"
   ]
  },
  {
   "cell_type": "markdown",
   "metadata": {},
   "source": [
    "#### 4. What model is being used for prediction?"
   ]
  },
  {
   "cell_type": "markdown",
   "metadata": {},
   "source": [
    "Our response to this question will constitute the following information - the type of model, a short description of it, the types of problems it is generally used on and any caveats associated with it. Assuming you are a business stakeholder in a project and have nominal experience in data based solutions, what else would you want to know?"
   ]
  },
  {
   "cell_type": "markdown",
   "metadata": {},
   "source": [
    "<table>\n",
    "<tr>\n",
    "    <th>Model</th>\n",
    "    <td>Logistic Regression</td>\n",
    "</tr>\n",
    "<tr>\n",
    "    <th>Description</th>\n",
    "    <td>Logistic Regression is a probability estimator<br>used to estimate the probability of an event occurring<br>having been given some previous data</td>\n",
    "</tr>\n",
    "<tr>\n",
    "    <th>Interpretability</th>\n",
    "    <td>High</td>\n",
    "</tr>\n",
    "<tr>\n",
    "    <th>Used for</th>\n",
    "    <td>Classification problems</td>\n",
    "</tr>\n",
    "<tr>\n",
    "    <th>Caveats</th>\n",
    "    <td>Linear model, doesn't capture non-linearity in data</td>\n",
    "</tr>\n",
    "<tr>\n",
    "    <th>Use case</th>\n",
    "    <td>\n",
    "        <ol>\n",
    "            <li>Predict the chances of a customer defaulting</li>\n",
    "            <li>Predict the propensity of a customer buying a product</li>\n",
    "            <li>Predict if a customer will churn</li>\n",
    "        </ol>\n",
    "    </td>\n",
    "</tr>\n",
    "</table>"
   ]
  },
  {
   "cell_type": "markdown",
   "metadata": {},
   "source": [
    "#### 5. How well is the model performing?"
   ]
  },
  {
   "cell_type": "markdown",
   "metadata": {},
   "source": [
    "While there are many accuracy metrics we can report, we will be displaying only a few of them based on relevance. The answer will have a format similar to this-  name of the metric, a short description, its value, and the range it should lie in. We can add a second pa What are your expectations? Does this response provide sufficient information? "
   ]
  },
  {
   "cell_type": "markdown",
   "metadata": {},
   "source": [
    "<table>\n",
    "<tr>\n",
    "    <th>Metric</th>\n",
    "    <th>Value</th>\n",
    "    <th>Description</th>\n",
    "</tr>\n",
    "<tr>\n",
    "    <th>AUC-ROC</th>\n",
    "    <td>0.83</td>\n",
    "    <td>\n",
    "        It shows how far off the model is from a randomly<br>\n",
    "        predicting machine. For the baseline it's 0.5, and for<br>\n",
    "        the perfect classifier it's 1.<br>\n",
    "    </td>\n",
    "</tr>\n",
    "\n",
    "<tr>\n",
    "    <th>GINI</th>\n",
    "    <td>0.66</td>\n",
    "    <td>GINI is a measure of inequality in a population. Higher values<br>\n",
    "    indicate better prediction</td>\n",
    "</tr>\n",
    "\n",
    "<tr>\n",
    "    <th>Accuracy</th>\n",
    "    <td>0.88</td>\n",
    "    <td>Accuracy measures the percentage of cases where predicted<br>\n",
    "    outcome matches the actual outcome</td>\n",
    "</tr>\n",
    "\n",
    "<tr>\n",
    "    <th>Sensitivity</th>\n",
    "    <td>0.78</td>\n",
    "    <td>\n",
    "        Sensitivity measures the proportion of positives that<br>\n",
    "        are correctly identified as such (e.g. the percentage of<br>\n",
    "        sick people who are correctly identified as having the condition).\n",
    "    </td>\n",
    "</tr>\n",
    "\n",
    "<tr>\n",
    "    <th>Specificity</th>\n",
    "    <td>0.81</td>\n",
    "    <td>\n",
    "        Specificity measures the proportion of negatives that<br>\n",
    "        are correctly identified as such (e.g. the percentage<br>\n",
    "        of healthy people who are correctly identified as not having<br>\n",
    "        the condition).\n",
    "    </td>\n",
    "</tr>\n",
    "\n",
    "</table>\n"
   ]
  },
  {
   "cell_type": "markdown",
   "metadata": {},
   "source": [
    "#### 6. What are the important feature in a segment with respect to the target variable"
   ]
  },
  {
   "cell_type": "markdown",
   "metadata": {},
   "source": [
    "Tp provide deeper and more meaningful explanations, we will be performing a few exercises in addition to the task. Segmentation/Clustering is one of them. Each cluster has different properties which means that for each segment, the variable importance might change. Here the idea is to show that if we created a separate model for each segment what would the most important variables be. Think of this as question 3 but at the segment scale. Would this information suffice? "
   ]
  },
  {
   "cell_type": "markdown",
   "metadata": {
    "collapsed": true
   },
   "source": [
    "<tr>\n",
    "    <td> <img src=\"seg_2.png\" alt=\"Drawing\" style=\"width: 7000px;\"/> </td>\n",
    "    <td> <img src=\"seg_4.png\" alt=\"Drawing\" style=\"width: 7000px;\"/> </td>\n",
    "</tr>"
   ]
  },
  {
   "cell_type": "markdown",
   "metadata": {},
   "source": [
    "#### 7. What are the differences between the segments? "
   ]
  },
  {
   "cell_type": "markdown",
   "metadata": {},
   "source": [
    "The difference between this and the above question is the exclusion of target variable. In the previous question, we looked at variable importance with respect to the target variable. In this question however, we will show how much the variables differ from each other by showing a graphical comparison of their summary statistics. We will also show how the target variable descriptive measures (mean, median, mode, etc) vary across each cluster. Is this answer sufficient to broadly answer the question "
   ]
  },
  {
   "cell_type": "markdown",
   "metadata": {},
   "source": [
    "<tr>\n",
    "    <td> <img src=\"cluster_comparison_means.png\" alt=\"Drawing\" style=\"width: 7000px;\"/> </td>\n",
    "    <td> <img src=\"cluster_comparison_medians.png\" alt=\"Drawing\" style=\"width: 7000px;\"/> </td>\n",
    "</tr>"
   ]
  },
  {
   "cell_type": "markdown",
   "metadata": {},
   "source": [
    "#### 8. What are the attributes that influence this decision?"
   ]
  },
  {
   "cell_type": "markdown",
   "metadata": {},
   "source": [
    "The question is aimed at understanding what variables influenced the prediction for a particular case (just the one instance). The result could be different from the variable importance that we show for question 3. To answer this question, we will show the variable importance for that particular instance."
   ]
  },
  {
   "cell_type": "markdown",
   "metadata": {
    "collapsed": true
   },
   "source": []
  }
 ],
 "metadata": {
  "kernelspec": {
   "display_name": "Python 3",
   "language": "python",
   "name": "python3"
  },
  "language_info": {
   "codemirror_mode": {
    "name": "ipython",
    "version": 3
   },
   "file_extension": ".py",
   "mimetype": "text/x-python",
   "name": "python",
   "nbconvert_exporter": "python",
   "pygments_lexer": "ipython3",
   "version": "3.6.0"
  }
 },
 "nbformat": 4,
 "nbformat_minor": 2
}
