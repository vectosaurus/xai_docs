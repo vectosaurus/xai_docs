{
 "cells": [
  {
   "cell_type": "markdown",
   "metadata": {
    "toc": true
   },
   "source": [
    "<h1>Table of Contents<span class=\"tocSkip\"></span></h1>\n",
    "<div class=\"toc\"><ul class=\"toc-item\"><li><span><a href=\"#Explainable-AI\" data-toc-modified-id=\"Explainable-AI-1\"><span class=\"toc-item-num\">1&nbsp;&nbsp;</span>Explainable AI</a></span><ul class=\"toc-item\"><li><span><a href=\"#Are-there-any-longitudinal-or-time-dependent-trends-in-the-data?\" data-toc-modified-id=\"Are-there-any-longitudinal-or-time-dependent-trends-in-the-data?-1.1\"><span class=\"toc-item-num\">1.1&nbsp;&nbsp;</span>Are there any longitudinal or time dependent trends in the data?</a></span></li><li><span><a href=\"#Show-me-some-interesting-behavior-that-I-wouldn’t-expect.\" data-toc-modified-id=\"Show-me-some-interesting-behavior-that-I-wouldn’t-expect.-1.2\"><span class=\"toc-item-num\">1.2&nbsp;&nbsp;</span>Show me some interesting behavior that I wouldn’t expect.</a></span></li><li><span><a href=\"#What-are-the-most-important-features?\" data-toc-modified-id=\"What-are-the-most-important-features?-1.3\"><span class=\"toc-item-num\">1.3&nbsp;&nbsp;</span>What are the most important features?</a></span></li><li><span><a href=\"#What-model-is-being-used-for-prediction?\" data-toc-modified-id=\"What-model-is-being-used-for-prediction?-1.4\"><span class=\"toc-item-num\">1.4&nbsp;&nbsp;</span>What model is being used for prediction?</a></span></li><li><span><a href=\"#How-well-is-the-model-performing?\" data-toc-modified-id=\"How-well-is-the-model-performing?-1.5\"><span class=\"toc-item-num\">1.5&nbsp;&nbsp;</span>How well is the model performing?</a></span></li><li><span><a href=\"#What-are-the-important-features-in-a-segment-with-respect-to-the-target-variable\" data-toc-modified-id=\"What-are-the-important-features-in-a-segment-with-respect-to-the-target-variable-1.6\"><span class=\"toc-item-num\">1.6&nbsp;&nbsp;</span>What are the important features in a segment with respect to the target variable</a></span></li><li><span><a href=\"#What-are-the-differences-between-the-segments?\" data-toc-modified-id=\"What-are-the-differences-between-the-segments?-1.7\"><span class=\"toc-item-num\">1.7&nbsp;&nbsp;</span>What are the differences between the segments?</a></span></li><li><span><a href=\"#What-are-the-attributes-that-influence-this-decision?\" data-toc-modified-id=\"What-are-the-attributes-that-influence-this-decision?-1.8\"><span class=\"toc-item-num\">1.8&nbsp;&nbsp;</span>What are the attributes that influence this decision?</a></span></li></ul></li></ul></div>"
   ]
  },
  {
   "cell_type": "markdown",
   "metadata": {},
   "source": [
    "### Explainable AI"
   ]
  },
  {
   "cell_type": "markdown",
   "metadata": {},
   "source": [
    "The purpose of this document is to give a preview of the explanations for the questions provided in the accompanying Google form. "
   ]
  },
  {
   "cell_type": "markdown",
   "metadata": {},
   "source": [
    "#### Are there any longitudinal or time dependent trends in the data?"
   ]
  },
  {
   "cell_type": "markdown",
   "metadata": {},
   "source": [
    "There are many cases where we may get data that show seasonal patterns. For example - sales records of cough syrups, average rainfall recorded in a particular area, height of ocean tides, etc. According to us, a businessman would like to see the comparison of the target variable for this season period compared against the target variable during non seasonal period"
   ]
  },
  {
   "cell_type": "markdown",
   "metadata": {},
   "source": [
    "#### Show me some interesting behavior that I wouldn’t expect."
   ]
  },
  {
   "cell_type": "markdown",
   "metadata": {},
   "source": [
    "Although the question comes across as naive, nevertheless, a lot of customers ask this question. This is what we have come up with - through clustering, we can group the data into segments and profile them. In the profiling step we will be labelling the segments, for example - high volume low margin traders, loyal and low basket value customers, etc. We aim to attract customer attention by showing them the latent structures in the data and their profiles/attributes. What other information should we show them? "
   ]
  },
  {
   "cell_type": "markdown",
   "metadata": {},
   "source": [
    "#### What are the most important features?"
   ]
  },
  {
   "cell_type": "markdown",
   "metadata": {},
   "source": [
    "A staple question for all the businessmen. To answer this question, we will display the list of variables in decreasing order of importance. Is there any other way to answer this question that makes it more intuitive and easy to understand? Also is the answer sufficient in terms of content?"
   ]
  },
  {
   "cell_type": "markdown",
   "metadata": {},
   "source": [
    "<div style=\"color:#33222;margin-left:30px;font-size:.9em;font-family:Tahoma\">\n",
    "From a global perspective, the model found that the following features had a significant effect on propensity to buy life insurance\n",
    "<ul>\n",
    "<li>number of credit transactions made, </li>\n",
    "<li>number of debit transactions, and </li>\n",
    "<li>number of transactions made through cheques and other modes</li>\n",
    "</ul>\n",
    "Other factors of customer behavior important to measure inclination towards life insurance are - age and number of dependents, etc.\n",
    "</div>\n",
    "\n",
    "<tr style=\"color:#222;margin-left:0px;font-size:.9em;font-family:Tahoma; margin: 0 auto\">\n",
    "    <td style=\"\">\n",
    "        <img width=60% src=\"var_imp_plot.png\" alt=\"Drawing\" style=\"border:1px solid #ddd;\"/>\n",
    "        <p style=\"text-align:justify;width:64%; margin: 20px auto\">\n",
    "            The graph shows which variables are instrumental in the prediction process. The importance is defined as the ratio between the number of samples routed to a decision node involving that feature in any of the trees of the ensemble over the total number of samples in the training set.\n",
    "\n",
    "\n",
    "        </p>\n",
    "    </td>\n",
    "<!--     <td style=\"width: 50%;\">\n",
    "        <img src=\"acc_drop.png\" alt=\"Drawing\" style=\"width: 1000px;\"/>\n",
    "        <p style=\"width: 100%;font-size: 11px; color:#7baad9;text-align:justify; opacity: 0.9\">\n",
    "            This graph shows the drop in accuracy when we exclude a variable from our prediction processes. Higher drop in accuracy indicates higher relative importance of a particular variable.\n",
    "        </p>\n",
    "    </td> -->\n",
    "</tr>"
   ]
  },
  {
   "cell_type": "markdown",
   "metadata": {},
   "source": [
    "#### What model is being used for prediction?"
   ]
  },
  {
   "cell_type": "markdown",
   "metadata": {},
   "source": [
    "Our response to this question will constitute the following information - the type of model, a short description of it, the types of problems it is generally used on and any caveats associated with it. Assuming you are a business stakeholder in a project and have nominal experience in data based solutions, what else would you want to know?"
   ]
  },
  {
   "cell_type": "markdown",
   "metadata": {},
   "source": [
    "<div style=\"color:#33222;margin-left:30px;font-size:.9em;font-family:Tahoma\">\n",
    "<p>Since this a problem of classification problem, we are using a Logistic Regression model. Logistic regression models are useful in extracting insights from data.\n",
    "</p>\n",
    "<br />\n",
    "</div>\n",
    "\n",
    "<table style=\"width:800px;text-align:left;border:1px solid #ddd;margin:0 auto\">\n",
    "<tr>\n",
    "    <th style=\"text-align:left;\">Model</th>\n",
    "    <td style=\"text-align:left;\">Logistic Regression</td>\n",
    "</tr>\n",
    "<tr>\n",
    "    <th style=\"text-align:left;\">Description</th>\n",
    "    <td style=\"text-align:left;padding-right:10px;\">Logistic Regression is a probability estimator used to estimate the probability of an event occurring having been given some previous data</td>\n",
    "</tr>\n",
    "<tr>\n",
    "    <th style=\"text-align:left;\">Interpretability</th>\n",
    "    <td style=\"text-align:left;\">High</td>\n",
    "</tr>\n",
    "<tr>\n",
    "    <th style=\"text-align:left;\">Used for</th>\n",
    "    <td style=\"text-align:left;\">Classification problems</td>\n",
    "</tr>\n",
    "<tr>\n",
    "    <th style=\"text-align:left;\">Caveats</th>\n",
    "    <td style=\"text-align:left;\">Linear model, doesn't capture non-linearity in data</td>\n",
    "</tr>\n",
    "<tr>\n",
    "    <th style=\"text-align:left;\">Use case</th>\n",
    "    <td style=\"text-align:left;\">\n",
    "        <ul style=\"padding:0px, 20px;\">\n",
    "            <li>Predict the chances of a customer defaulting</li>\n",
    "            <li>Predict the propensity of a customer buying a product</li>\n",
    "            <li>Predict if a customer will churn</li>\n",
    "        </ul>\n",
    "    </td>\n",
    "</tr>\n",
    "</table>\n"
   ]
  },
  {
   "cell_type": "markdown",
   "metadata": {},
   "source": [
    "#### How well is the model performing?"
   ]
  },
  {
   "cell_type": "markdown",
   "metadata": {},
   "source": [
    "While there are many accuracy metrics we can report, we will be displaying only a few of them based on relevance. The answer will have a format similar to this-  name of the metric, a short description, its value, and the range it should lie in. We can add a second pa What are your expectations? Does this response provide sufficient information? "
   ]
  },
  {
   "cell_type": "markdown",
   "metadata": {},
   "source": [
    "<table style=\"width:800px;text-align:left;border:1px solid #ddd;margin:0 auto\">\n",
    "<tr>\n",
    "    <th style=\"width:15%;text-align:left;\">Metric</th>\n",
    "    <th style=\"width:10%;text-align:left;\">Value</th>\n",
    "    <th style=\"width:75%;text-align:left;\">Description</th>\n",
    "</tr>\n",
    "<tr>\n",
    "    <th style=\"text-align:left;\">AUC-ROC</th>\n",
    "    <td style=\"text-align:left;\">0.83</td>\n",
    "    <td style=\"text-align:left;\">\n",
    "        It shows how far off the model is from a randomly predicting machine. For the baseline it's 0.5, and for\n",
    "        the perfect classifier it's 1.<br>\n",
    "    </td>\n",
    "</tr>\n",
    "\n",
    "<tr>\n",
    "    <th style=\"text-align:left;\">GINI</th>\n",
    "    <td style=\"text-align:left;\">0.66</td>\n",
    "    <td style=\"text-align:left;\">GINI is a measure of inequality in a population. Higher values indicate better prediction</td>\n",
    "</tr>\n",
    "\n",
    "<tr>\n",
    "    <th style=\"text-align:left;\">Accuracy</th>\n",
    "    <td style=\"text-align:left;\">0.88</td>\n",
    "    <td style=\"text-align:left;\">Accuracy measures the percentage of cases where predicted outcome matches the actual outcome</td>\n",
    "</tr>\n",
    "\n",
    "<tr>\n",
    "    <th style=\"text-align:left;\">Sensitivity</th>\n",
    "    <td style=\"text-align:left;\">0.78</td>\n",
    "    <td style=\"text-align:left;\">\n",
    "        Sensitivity measures the proportion of positives that are correctly identified as such (e.g. the percentage of sick people who are correctly identified as having the condition).\n",
    "    </td>\n",
    "</tr>\n",
    "\n",
    "<tr>\n",
    "    <th style=\"text-align:left;\">Specificity</th>\n",
    "    <td style=\"text-align:left;\">0.81</td>\n",
    "    <td style=\"text-align:left;\">\n",
    "        Specificity measures the proportion of negatives that are correctly identified as such (e.g. the percentage of healthy people who are correctly identified as not having the condition).\n",
    "    </td>\n",
    "</tr>\n",
    "\n",
    "</table>\n"
   ]
  },
  {
   "cell_type": "markdown",
   "metadata": {},
   "source": [
    "#### What are the important features in a segment with respect to the target variable"
   ]
  },
  {
   "cell_type": "markdown",
   "metadata": {},
   "source": [
    "To provide deeper and more meaningful explanations, we will be performing a few exercises in addition to the task. Segmentation/Clustering is one of them. Each cluster has different properties which means that for each segment, the variable importance might change. Here the idea is to show that if we created a separate model for each segment what would the most important variables be. Think of this as question 3 but at the segment scale. Would this information suffice? "
   ]
  },
  {
   "cell_type": "markdown",
   "metadata": {},
   "source": [
    "<div style=\"text-align:center;\" ><b style=\"color:#666\">\n",
    "    The graph below compares the importance of features across the clusters.\n",
    "</b>\n",
    "</div>\n",
    "<tr>\n",
    "    <td><img src=\"seg_2.png\" alt=\"Drawing\" style=\"width: 49%;display:inline-block;\"/> </td>\n",
    "    <td><img src=\"seg_4.png\" alt=\"Drawing\" style=\"width: 49%;display:inline-block;\"/> </td>\n",
    "</tr>\n",
    "<div style=\"color:#222;margin-left:30px;font-size:.9em;font-family:Tahoma\">\n",
    "<p>\n",
    "In each of the graphs below, the variables have been ranked in arranged in decreasing order of their importance. In the graph for <i>Segment 2</i>, number of credit and debit counts are less important as compared to <i>Segment 4</i>. For segment 4, number of credit and debit counts are the most important variables. \n",
    "</p>\n",
    "<p>\n",
    "This implies that for Segment 4, total credit and debit counts are the most important features for predicting life insurance whereas in segment 2, BRC_count and SYS_count are the most important variables. \n",
    "</p>\n",
    "</div>"
   ]
  },
  {
   "cell_type": "markdown",
   "metadata": {},
   "source": [
    "#### What are the differences between the segments? "
   ]
  },
  {
   "cell_type": "markdown",
   "metadata": {},
   "source": [
    "The difference between this and the above question is the exclusion of target variable. In the previous question, we looked at variable importance with respect to the target variable. In this question however, we will show how much the variables differ from each other by showing a graphical comparison of their summary statistics. We will also show how the target variable descriptive measures (mean, median, mode, etc) vary across each cluster. Is this answer sufficient to broadly answer the question "
   ]
  },
  {
   "cell_type": "markdown",
   "metadata": {},
   "source": [
    "<div style=\"text-align:center;color:#222;margin-left:0px auto;font-size:0.9em;font-family:Tahoma\">\n",
    "\n",
    "<b style=\"color:#666;display:block;font-size:1em;\">\n",
    "    The graphs below compare the two clusters using the statistical values of the predictor variables.\n",
    "</b>\n",
    "\n",
    "<tr style=\"margin:0 auto\">\n",
    "<td><img src=\"cluster_comparison_means.png\" alt=\"Drawing\" style=\"display:inline;width:33%;border:1px solid #ddd;\"/> </td>\n",
    "<td><img src=\"cluster_comparison_medians.png\" alt=\"Drawing\" style=\"display:inline;width:33%;border: 1px solid #ddd;\"/> </td>\n",
    "<td><img src=\"cluster_comparison_event_rate.png\" alt=\"Drawing\" style=\"display:inline;width:33%;border: 1px solid #ddd;\"/> </td>\n",
    "</tr>\n",
    "<p></p>\n",
    "<p></p>\n",
    "<p style=\"display:block;font-size:1em;\">\n",
    "In first two graphs we compare the means and medians of the two clusters. The blue lines represent the Segment 4 and red bars represent the Segment 2. We can clearly see the difference between average values of <i>age, ATM_count, along with total credit and debit counts.</i> The average value of total credit/debit counts is significantly lower in Segment 2. This explains the significantly lower event rates in the third graph for Segment 2\n",
    "</p>\n",
    "<br>\n",
    "</div>"
   ]
  },
  {
   "cell_type": "markdown",
   "metadata": {},
   "source": [
    "#### What are the attributes that influence this decision?"
   ]
  },
  {
   "cell_type": "markdown",
   "metadata": {},
   "source": [
    "The question is aimed at understanding what variables influenced the prediction for a particular case (just the one instance). The result could be different from the variable importance that we show for question 3. To answer this question, we will show the variable importance for that particular instance."
   ]
  },
  {
   "cell_type": "markdown",
   "metadata": {
    "collapsed": true
   },
   "source": []
  }
 ],
 "metadata": {
  "hide_input": false,
  "kernelspec": {
   "display_name": "Python 3",
   "language": "python",
   "name": "python3"
  },
  "language_info": {
   "codemirror_mode": {
    "name": "ipython",
    "version": 3
   },
   "file_extension": ".py",
   "mimetype": "text/x-python",
   "name": "python",
   "nbconvert_exporter": "python",
   "pygments_lexer": "ipython3",
   "version": "3.6.0"
  },
  "toc": {
   "nav_menu": {},
   "number_sections": true,
   "sideBar": true,
   "skip_h1_title": false,
   "title_cell": "Table of Contents",
   "title_sidebar": "Contents",
   "toc_cell": true,
   "toc_position": {},
   "toc_section_display": true,
   "toc_window_display": false
  },
  "varInspector": {
   "cols": {
    "lenName": 16,
    "lenType": 16,
    "lenVar": 40
   },
   "kernels_config": {
    "python": {
     "delete_cmd_postfix": "",
     "delete_cmd_prefix": "del ",
     "library": "var_list.py",
     "varRefreshCmd": "print(var_dic_list())"
    },
    "r": {
     "delete_cmd_postfix": ") ",
     "delete_cmd_prefix": "rm(",
     "library": "var_list.r",
     "varRefreshCmd": "cat(var_dic_list()) "
    }
   },
   "types_to_exclude": [
    "module",
    "function",
    "builtin_function_or_method",
    "instance",
    "_Feature"
   ],
   "window_display": false
  }
 },
 "nbformat": 4,
 "nbformat_minor": 2
}
